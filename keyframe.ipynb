{
 "cells": [
  {
   "cell_type": "code",
   "execution_count": 1,
   "metadata": {},
   "outputs": [],
   "source": [
    "import cv2\n",
    "import numpy as np\n",
    "import time"
   ]
  },
  {
   "cell_type": "code",
   "execution_count": 2,
   "metadata": {},
   "outputs": [],
   "source": [
    "video_path = \"test_videos/Pedestrian.mp4\" # Video path\n",
    "p_frame_thresh = 2700000 # You may need to adjust this threshold"
   ]
  },
  {
   "cell_type": "code",
   "execution_count": 3,
   "metadata": {},
   "outputs": [],
   "source": [
    "cap = cv2.VideoCapture(video_path)\n",
    "fps = int(cap.get(5))\n",
    "if(fps==0):\n",
    "    print(\"Not available\")"
   ]
  },
  {
   "cell_type": "code",
   "execution_count": 4,
   "metadata": {},
   "outputs": [
    {
     "name": "stdout",
     "output_type": "stream",
     "text": [
      "Total Number of frames saved: 102\n"
     ]
    }
   ],
   "source": [
    "# Read the first frame.\n",
    "ret, prev_frame = cap.read()\n",
    "i = 0\n",
    "count = 0\n",
    "cv2.imwrite('keyframes/'+str(i)+'.jpg',prev_frame)\n",
    "\n",
    "while ret:\n",
    "    ret, curr_frame = cap.read()\n",
    "    if ret:\n",
    "        diff = cv2.absdiff(curr_frame, prev_frame)\n",
    "        non_zero_count = np.count_nonzero(diff)\n",
    "        if non_zero_count > p_frame_thresh:\n",
    "            print(\"Saving Frame number: {}\".format(i), end='\\r')\n",
    "            cv2.imwrite('keyframes/'+str(i)+'.jpg',curr_frame)\n",
    "            count += 1\n",
    "        prev_frame = curr_frame\n",
    "        i += 1\n",
    "print(\"Total Number of frames saved: {}\".format(count))"
   ]
  }
 ],
 "metadata": {
  "kernelspec": {
   "display_name": "Python 3",
   "language": "python",
   "name": "python3"
  },
  "language_info": {
   "codemirror_mode": {
    "name": "ipython",
    "version": 3
   },
   "file_extension": ".py",
   "mimetype": "text/x-python",
   "name": "python",
   "nbconvert_exporter": "python",
   "pygments_lexer": "ipython3",
   "version": "3.7.2"
  }
 },
 "nbformat": 4,
 "nbformat_minor": 2
}
